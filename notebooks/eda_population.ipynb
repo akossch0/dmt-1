{
 "cells": [
  {
   "cell_type": "code",
   "execution_count": 59,
   "metadata": {},
   "outputs": [],
   "source": [
    "import pandas as pd\n",
    "import glob\n",
    "import os\n",
    "from scipy.stats import gaussian_kde\n",
    "import numpy as np\n",
    "import matplotlib.pyplot as plt\n",
    "\n",
    "%matplotlib inline"
   ]
  },
  {
   "cell_type": "markdown",
   "metadata": {},
   "source": [
    "# Dataset description"
   ]
  },
  {
   "cell_type": "markdown",
   "metadata": {},
   "source": [
    "Population of Barcelona according to the Municipal Register of Inhabitants on January 1 of each year."
   ]
  },
  {
   "cell_type": "markdown",
   "metadata": {},
   "source": [
    "# Columns description"
   ]
  },
  {
   "cell_type": "markdown",
   "metadata": {},
   "source": [
    "01.Data_Referencia: Reference date of the data.\n",
    "\n",
    "02.Codi_Districte: District code.\n",
    "\n",
    "03.Nom_Districte: District name.\n",
    "\n",
    "04.Codi_Barri: Neighbourhood code.\n",
    "\n",
    "05.Nom_Barri: Neighbourhood name.\n",
    "\n",
    "06.AEB: Basic statistical area.\n",
    "\n",
    "07.Seccio_Censal: Census tract.\n",
    "\n",
    "08.Valor: Number of inhabitants."
   ]
  },
  {
   "cell_type": "markdown",
   "metadata": {},
   "source": [
    "# Loading the data"
   ]
  },
  {
   "cell_type": "code",
   "execution_count": 24,
   "metadata": {},
   "outputs": [
    {
     "data": {
      "text/html": [
       "<div>\n",
       "<style scoped>\n",
       "    .dataframe tbody tr th:only-of-type {\n",
       "        vertical-align: middle;\n",
       "    }\n",
       "\n",
       "    .dataframe tbody tr th {\n",
       "        vertical-align: top;\n",
       "    }\n",
       "\n",
       "    .dataframe thead th {\n",
       "        text-align: right;\n",
       "    }\n",
       "</style>\n",
       "<table border=\"1\" class=\"dataframe\">\n",
       "  <thead>\n",
       "    <tr style=\"text-align: right;\">\n",
       "      <th></th>\n",
       "      <th>Data_Referencia</th>\n",
       "      <th>Codi_Districte</th>\n",
       "      <th>Nom_Districte</th>\n",
       "      <th>Codi_Barri</th>\n",
       "      <th>Nom_Barri</th>\n",
       "      <th>AEB</th>\n",
       "      <th>Seccio_Censal</th>\n",
       "      <th>Valor</th>\n",
       "    </tr>\n",
       "  </thead>\n",
       "  <tbody>\n",
       "    <tr>\n",
       "      <th>0</th>\n",
       "      <td>2016-01-01</td>\n",
       "      <td>1</td>\n",
       "      <td>Ciutat Vella</td>\n",
       "      <td>1</td>\n",
       "      <td>el Raval</td>\n",
       "      <td>1</td>\n",
       "      <td>1001</td>\n",
       "      <td>1309</td>\n",
       "    </tr>\n",
       "    <tr>\n",
       "      <th>1</th>\n",
       "      <td>2016-01-01</td>\n",
       "      <td>1</td>\n",
       "      <td>Ciutat Vella</td>\n",
       "      <td>1</td>\n",
       "      <td>el Raval</td>\n",
       "      <td>1</td>\n",
       "      <td>1002</td>\n",
       "      <td>1546</td>\n",
       "    </tr>\n",
       "    <tr>\n",
       "      <th>2</th>\n",
       "      <td>2016-01-01</td>\n",
       "      <td>1</td>\n",
       "      <td>Ciutat Vella</td>\n",
       "      <td>1</td>\n",
       "      <td>el Raval</td>\n",
       "      <td>2</td>\n",
       "      <td>1003</td>\n",
       "      <td>3420</td>\n",
       "    </tr>\n",
       "    <tr>\n",
       "      <th>3</th>\n",
       "      <td>2016-01-01</td>\n",
       "      <td>1</td>\n",
       "      <td>Ciutat Vella</td>\n",
       "      <td>1</td>\n",
       "      <td>el Raval</td>\n",
       "      <td>2</td>\n",
       "      <td>1004</td>\n",
       "      <td>2753</td>\n",
       "    </tr>\n",
       "    <tr>\n",
       "      <th>4</th>\n",
       "      <td>2016-01-01</td>\n",
       "      <td>1</td>\n",
       "      <td>Ciutat Vella</td>\n",
       "      <td>1</td>\n",
       "      <td>el Raval</td>\n",
       "      <td>3</td>\n",
       "      <td>1005</td>\n",
       "      <td>2481</td>\n",
       "    </tr>\n",
       "  </tbody>\n",
       "</table>\n",
       "</div>"
      ],
      "text/plain": [
       "  Data_Referencia Codi_Districte Nom_Districte Codi_Barri Nom_Barri AEB  \\\n",
       "0      2016-01-01              1  Ciutat Vella          1  el Raval   1   \n",
       "1      2016-01-01              1  Ciutat Vella          1  el Raval   1   \n",
       "2      2016-01-01              1  Ciutat Vella          1  el Raval   2   \n",
       "3      2016-01-01              1  Ciutat Vella          1  el Raval   2   \n",
       "4      2016-01-01              1  Ciutat Vella          1  el Raval   3   \n",
       "\n",
       "  Seccio_Censal Valor  \n",
       "0          1001  1309  \n",
       "1          1002  1546  \n",
       "2          1003  3420  \n",
       "3          1004  2753  \n",
       "4          1005  2481  "
      ]
     },
     "execution_count": 24,
     "metadata": {},
     "output_type": "execute_result"
    }
   ],
   "source": [
    "# Path to the data folder\n",
    "file_path = \"../data/population\"\n",
    "\n",
    "# List of all CSV files in the folder\n",
    "csv_files = glob.glob(os.path.join(file_path, \"*.csv\"))\n",
    "\n",
    "# Read each CSV file into a DataFrame and store them in a list\n",
    "dataframes = [pd.read_csv(file, dtype=object) for file in csv_files]\n",
    "\n",
    "# Concatenate all DataFrames into one\n",
    "population_df = pd.concat(dataframes, ignore_index=True)\n",
    "\n",
    "population_df.head()"
   ]
  },
  {
   "cell_type": "code",
   "execution_count": 43,
   "metadata": {},
   "outputs": [
    {
     "data": {
      "text/html": [
       "<div>\n",
       "<style scoped>\n",
       "    .dataframe tbody tr th:only-of-type {\n",
       "        vertical-align: middle;\n",
       "    }\n",
       "\n",
       "    .dataframe tbody tr th {\n",
       "        vertical-align: top;\n",
       "    }\n",
       "\n",
       "    .dataframe thead th {\n",
       "        text-align: right;\n",
       "    }\n",
       "</style>\n",
       "<table border=\"1\" class=\"dataframe\">\n",
       "  <thead>\n",
       "    <tr style=\"text-align: right;\">\n",
       "      <th></th>\n",
       "      <th>Data_Referencia</th>\n",
       "      <th>Codi_Districte</th>\n",
       "      <th>Nom_Districte</th>\n",
       "      <th>Codi_Barri</th>\n",
       "      <th>Nom_Barri</th>\n",
       "      <th>AEB</th>\n",
       "      <th>Seccio_Censal</th>\n",
       "      <th>Valor</th>\n",
       "    </tr>\n",
       "  </thead>\n",
       "  <tbody>\n",
       "    <tr>\n",
       "      <th>8544</th>\n",
       "      <td>2024-01-01</td>\n",
       "      <td>1</td>\n",
       "      <td>Ciutat Vella</td>\n",
       "      <td>1</td>\n",
       "      <td>el Raval</td>\n",
       "      <td>1</td>\n",
       "      <td>1001</td>\n",
       "      <td>1309</td>\n",
       "    </tr>\n",
       "    <tr>\n",
       "      <th>8545</th>\n",
       "      <td>2024-01-01</td>\n",
       "      <td>1</td>\n",
       "      <td>Ciutat Vella</td>\n",
       "      <td>1</td>\n",
       "      <td>el Raval</td>\n",
       "      <td>1</td>\n",
       "      <td>1002</td>\n",
       "      <td>1282</td>\n",
       "    </tr>\n",
       "    <tr>\n",
       "      <th>8546</th>\n",
       "      <td>2024-01-01</td>\n",
       "      <td>1</td>\n",
       "      <td>Ciutat Vella</td>\n",
       "      <td>1</td>\n",
       "      <td>el Raval</td>\n",
       "      <td>2</td>\n",
       "      <td>1003</td>\n",
       "      <td>3500</td>\n",
       "    </tr>\n",
       "    <tr>\n",
       "      <th>8547</th>\n",
       "      <td>2024-01-01</td>\n",
       "      <td>1</td>\n",
       "      <td>Ciutat Vella</td>\n",
       "      <td>1</td>\n",
       "      <td>el Raval</td>\n",
       "      <td>2</td>\n",
       "      <td>1004</td>\n",
       "      <td>2999</td>\n",
       "    </tr>\n",
       "    <tr>\n",
       "      <th>8548</th>\n",
       "      <td>2024-01-01</td>\n",
       "      <td>1</td>\n",
       "      <td>Ciutat Vella</td>\n",
       "      <td>1</td>\n",
       "      <td>el Raval</td>\n",
       "      <td>3</td>\n",
       "      <td>1005</td>\n",
       "      <td>2326</td>\n",
       "    </tr>\n",
       "  </tbody>\n",
       "</table>\n",
       "</div>"
      ],
      "text/plain": [
       "     Data_Referencia Codi_Districte Nom_Districte Codi_Barri Nom_Barri AEB  \\\n",
       "8544      2024-01-01              1  Ciutat Vella          1  el Raval   1   \n",
       "8545      2024-01-01              1  Ciutat Vella          1  el Raval   1   \n",
       "8546      2024-01-01              1  Ciutat Vella          1  el Raval   2   \n",
       "8547      2024-01-01              1  Ciutat Vella          1  el Raval   2   \n",
       "8548      2024-01-01              1  Ciutat Vella          1  el Raval   3   \n",
       "\n",
       "     Seccio_Censal  Valor  \n",
       "8544          1001   1309  \n",
       "8545          1002   1282  \n",
       "8546          1003   3500  \n",
       "8547          1004   2999  \n",
       "8548          1005   2326  "
      ]
     },
     "execution_count": 43,
     "metadata": {},
     "output_type": "execute_result"
    }
   ],
   "source": [
    "# Filter to only keep rows from 2024\n",
    "population_df = population_df[population_df[\"Data_Referencia\"] == \"2024-01-01\"]\n",
    "population_df.head()"
   ]
  },
  {
   "cell_type": "code",
   "execution_count": 44,
   "metadata": {},
   "outputs": [
    {
     "data": {
      "text/plain": [
       "Data_Referencia    object\n",
       "Codi_Districte     object\n",
       "Nom_Districte      object\n",
       "Codi_Barri         object\n",
       "Nom_Barri          object\n",
       "AEB                object\n",
       "Seccio_Censal      object\n",
       "Valor               int64\n",
       "dtype: object"
      ]
     },
     "execution_count": 44,
     "metadata": {},
     "output_type": "execute_result"
    }
   ],
   "source": [
    "population_df.dtypes"
   ]
  },
  {
   "cell_type": "code",
   "execution_count": 45,
   "metadata": {},
   "outputs": [
    {
     "data": {
      "text/plain": [
       "Data_Referencia    object\n",
       "Codi_Districte     object\n",
       "Nom_Districte      object\n",
       "Codi_Barri         object\n",
       "Nom_Barri          object\n",
       "AEB                object\n",
       "Seccio_Censal      object\n",
       "Valor               int64\n",
       "dtype: object"
      ]
     },
     "execution_count": 45,
     "metadata": {},
     "output_type": "execute_result"
    }
   ],
   "source": [
    "# Convert \"Valor\" column to integer\n",
    "population_df = population_df.astype({\"Valor\": int})\n",
    "\n",
    "population_df.dtypes"
   ]
  },
  {
   "cell_type": "code",
   "execution_count": 46,
   "metadata": {},
   "outputs": [
    {
     "data": {
      "text/html": [
       "<div>\n",
       "<style scoped>\n",
       "    .dataframe tbody tr th:only-of-type {\n",
       "        vertical-align: middle;\n",
       "    }\n",
       "\n",
       "    .dataframe tbody tr th {\n",
       "        vertical-align: top;\n",
       "    }\n",
       "\n",
       "    .dataframe thead th {\n",
       "        text-align: right;\n",
       "    }\n",
       "</style>\n",
       "<table border=\"1\" class=\"dataframe\">\n",
       "  <thead>\n",
       "    <tr style=\"text-align: right;\">\n",
       "      <th></th>\n",
       "      <th>Data_Referencia</th>\n",
       "      <th>Codi_Districte</th>\n",
       "      <th>Nom_Districte</th>\n",
       "      <th>Codi_Barri</th>\n",
       "      <th>Nom_Barri</th>\n",
       "      <th>AEB</th>\n",
       "      <th>Seccio_Censal</th>\n",
       "      <th>Valor</th>\n",
       "    </tr>\n",
       "  </thead>\n",
       "  <tbody>\n",
       "    <tr>\n",
       "      <th>8544</th>\n",
       "      <td>2024-01-01</td>\n",
       "      <td>1</td>\n",
       "      <td>Ciutat Vella</td>\n",
       "      <td>1</td>\n",
       "      <td>el Raval</td>\n",
       "      <td>1</td>\n",
       "      <td>1001</td>\n",
       "      <td>1309</td>\n",
       "    </tr>\n",
       "    <tr>\n",
       "      <th>8545</th>\n",
       "      <td>2024-01-01</td>\n",
       "      <td>1</td>\n",
       "      <td>Ciutat Vella</td>\n",
       "      <td>1</td>\n",
       "      <td>el Raval</td>\n",
       "      <td>1</td>\n",
       "      <td>1002</td>\n",
       "      <td>1282</td>\n",
       "    </tr>\n",
       "    <tr>\n",
       "      <th>8546</th>\n",
       "      <td>2024-01-01</td>\n",
       "      <td>1</td>\n",
       "      <td>Ciutat Vella</td>\n",
       "      <td>1</td>\n",
       "      <td>el Raval</td>\n",
       "      <td>2</td>\n",
       "      <td>1003</td>\n",
       "      <td>3500</td>\n",
       "    </tr>\n",
       "    <tr>\n",
       "      <th>8547</th>\n",
       "      <td>2024-01-01</td>\n",
       "      <td>1</td>\n",
       "      <td>Ciutat Vella</td>\n",
       "      <td>1</td>\n",
       "      <td>el Raval</td>\n",
       "      <td>2</td>\n",
       "      <td>1004</td>\n",
       "      <td>2999</td>\n",
       "    </tr>\n",
       "    <tr>\n",
       "      <th>8548</th>\n",
       "      <td>2024-01-01</td>\n",
       "      <td>1</td>\n",
       "      <td>Ciutat Vella</td>\n",
       "      <td>1</td>\n",
       "      <td>el Raval</td>\n",
       "      <td>3</td>\n",
       "      <td>1005</td>\n",
       "      <td>2326</td>\n",
       "    </tr>\n",
       "  </tbody>\n",
       "</table>\n",
       "</div>"
      ],
      "text/plain": [
       "     Data_Referencia Codi_Districte Nom_Districte Codi_Barri Nom_Barri AEB  \\\n",
       "8544      2024-01-01              1  Ciutat Vella          1  el Raval   1   \n",
       "8545      2024-01-01              1  Ciutat Vella          1  el Raval   1   \n",
       "8546      2024-01-01              1  Ciutat Vella          1  el Raval   2   \n",
       "8547      2024-01-01              1  Ciutat Vella          1  el Raval   2   \n",
       "8548      2024-01-01              1  Ciutat Vella          1  el Raval   3   \n",
       "\n",
       "     Seccio_Censal  Valor  \n",
       "8544          1001   1309  \n",
       "8545          1002   1282  \n",
       "8546          1003   3500  \n",
       "8547          1004   2999  \n",
       "8548          1005   2326  "
      ]
     },
     "execution_count": 46,
     "metadata": {},
     "output_type": "execute_result"
    }
   ],
   "source": [
    "population_df.head()"
   ]
  },
  {
   "cell_type": "markdown",
   "metadata": {},
   "source": [
    "# EDA"
   ]
  },
  {
   "cell_type": "markdown",
   "metadata": {},
   "source": [
    "## Automatic EDA test"
   ]
  },
  {
   "cell_type": "code",
   "execution_count": null,
   "metadata": {},
   "outputs": [],
   "source": [
    "import sys\n",
    "!{sys.executable} -m pip install -U ydata-profiling"
   ]
  },
  {
   "cell_type": "code",
   "execution_count": 29,
   "metadata": {},
   "outputs": [],
   "source": [
    "from ydata_profiling import ProfileReport"
   ]
  },
  {
   "cell_type": "code",
   "execution_count": 30,
   "metadata": {},
   "outputs": [
    {
     "data": {
      "application/vnd.jupyter.widget-view+json": {
       "model_id": "cbb9dfd384004f21b20fe97087a9f91c",
       "version_major": 2,
       "version_minor": 0
      },
      "text/plain": [
       "Summarize dataset:   0%|          | 0/5 [00:00<?, ?it/s]"
      ]
     },
     "metadata": {},
     "output_type": "display_data"
    },
    {
     "name": "stderr",
     "output_type": "stream",
     "text": [
      "100%|██████████| 8/8 [00:00<00:00, 93.05it/s]\n"
     ]
    },
    {
     "data": {
      "application/vnd.jupyter.widget-view+json": {
       "model_id": "490d6307b6d846ff83469350c6dc8696",
       "version_major": 2,
       "version_minor": 0
      },
      "text/plain": [
       "Generate report structure:   0%|          | 0/1 [00:00<?, ?it/s]"
      ]
     },
     "metadata": {},
     "output_type": "display_data"
    },
    {
     "data": {
      "application/vnd.jupyter.widget-view+json": {
       "model_id": "6642d7d97e0448608350e0e66238f7de",
       "version_major": 2,
       "version_minor": 0
      },
      "text/plain": [
       "Render HTML:   0%|          | 0/1 [00:00<?, ?it/s]"
      ]
     },
     "metadata": {},
     "output_type": "display_data"
    },
    {
     "data": {
      "application/vnd.jupyter.widget-view+json": {
       "model_id": "c492e424b5dc43d891980bb3eb1822eb",
       "version_major": 2,
       "version_minor": 0
      },
      "text/plain": [
       "Export report to file:   0%|          | 0/1 [00:00<?, ?it/s]"
      ]
     },
     "metadata": {},
     "output_type": "display_data"
    }
   ],
   "source": [
    "population_eda_report = ProfileReport(population_df)\n",
    "population_eda_report.to_file(\"population_eda_report.html\")"
   ]
  },
  {
   "cell_type": "markdown",
   "metadata": {},
   "source": [
    "## Manual EDA"
   ]
  },
  {
   "cell_type": "code",
   "execution_count": 47,
   "metadata": {},
   "outputs": [
    {
     "name": "stdout",
     "output_type": "stream",
     "text": [
      "<class 'pandas.core.frame.DataFrame'>\n",
      "Index: 1068 entries, 8544 to 9611\n",
      "Data columns (total 8 columns):\n",
      " #   Column           Non-Null Count  Dtype \n",
      "---  ------           --------------  ----- \n",
      " 0   Data_Referencia  1068 non-null   object\n",
      " 1   Codi_Districte   1068 non-null   object\n",
      " 2   Nom_Districte    1068 non-null   object\n",
      " 3   Codi_Barri       1068 non-null   object\n",
      " 4   Nom_Barri        1068 non-null   object\n",
      " 5   AEB              1068 non-null   object\n",
      " 6   Seccio_Censal    1068 non-null   object\n",
      " 7   Valor            1068 non-null   int64 \n",
      "dtypes: int64(1), object(7)\n",
      "memory usage: 75.1+ KB\n"
     ]
    }
   ],
   "source": [
    "population_df.info()"
   ]
  },
  {
   "cell_type": "markdown",
   "metadata": {},
   "source": [
    "### Summary statistics for population"
   ]
  },
  {
   "cell_type": "code",
   "execution_count": 48,
   "metadata": {},
   "outputs": [
    {
     "data": {
      "text/html": [
       "<div>\n",
       "<style scoped>\n",
       "    .dataframe tbody tr th:only-of-type {\n",
       "        vertical-align: middle;\n",
       "    }\n",
       "\n",
       "    .dataframe tbody tr th {\n",
       "        vertical-align: top;\n",
       "    }\n",
       "\n",
       "    .dataframe thead th {\n",
       "        text-align: right;\n",
       "    }\n",
       "</style>\n",
       "<table border=\"1\" class=\"dataframe\">\n",
       "  <thead>\n",
       "    <tr style=\"text-align: right;\">\n",
       "      <th></th>\n",
       "      <th>Valor</th>\n",
       "    </tr>\n",
       "  </thead>\n",
       "  <tbody>\n",
       "    <tr>\n",
       "      <th>count</th>\n",
       "      <td>1068.000000</td>\n",
       "    </tr>\n",
       "    <tr>\n",
       "      <th>mean</th>\n",
       "      <td>1594.395131</td>\n",
       "    </tr>\n",
       "    <tr>\n",
       "      <th>std</th>\n",
       "      <td>640.973965</td>\n",
       "    </tr>\n",
       "    <tr>\n",
       "      <th>min</th>\n",
       "      <td>789.000000</td>\n",
       "    </tr>\n",
       "    <tr>\n",
       "      <th>25%</th>\n",
       "      <td>1298.000000</td>\n",
       "    </tr>\n",
       "    <tr>\n",
       "      <th>50%</th>\n",
       "      <td>1515.500000</td>\n",
       "    </tr>\n",
       "    <tr>\n",
       "      <th>75%</th>\n",
       "      <td>1738.000000</td>\n",
       "    </tr>\n",
       "    <tr>\n",
       "      <th>max</th>\n",
       "      <td>13115.000000</td>\n",
       "    </tr>\n",
       "  </tbody>\n",
       "</table>\n",
       "</div>"
      ],
      "text/plain": [
       "              Valor\n",
       "count   1068.000000\n",
       "mean    1594.395131\n",
       "std      640.973965\n",
       "min      789.000000\n",
       "25%     1298.000000\n",
       "50%     1515.500000\n",
       "75%     1738.000000\n",
       "max    13115.000000"
      ]
     },
     "execution_count": 48,
     "metadata": {},
     "output_type": "execute_result"
    }
   ],
   "source": [
    "# Quick summary of numeric columns\n",
    "population_df.describe()"
   ]
  },
  {
   "cell_type": "markdown",
   "metadata": {},
   "source": [
    "### Missing values"
   ]
  },
  {
   "cell_type": "code",
   "execution_count": 49,
   "metadata": {},
   "outputs": [
    {
     "data": {
      "text/plain": [
       "Data_Referencia    0\n",
       "Codi_Districte     0\n",
       "Nom_Districte      0\n",
       "Codi_Barri         0\n",
       "Nom_Barri          0\n",
       "AEB                0\n",
       "Seccio_Censal      0\n",
       "Valor              0\n",
       "dtype: int64"
      ]
     },
     "execution_count": 49,
     "metadata": {},
     "output_type": "execute_result"
    }
   ],
   "source": [
    "population_df.isna().sum()"
   ]
  },
  {
   "cell_type": "code",
   "execution_count": 62,
   "metadata": {},
   "outputs": [
    {
     "data": {
      "text/plain": [
       "Nom_Barri          73\n",
       "Nom_Districte      10\n",
       "Seccio_Censal    1068\n",
       "dtype: int64"
      ]
     },
     "execution_count": 62,
     "metadata": {},
     "output_type": "execute_result"
    }
   ],
   "source": [
    "# Count the number of unique values in the columns \"Nom_Barri\", \"Nom_Districte\" and \"Seccio_Censal\"\n",
    "population_df[[\"Nom_Barri\", \"Nom_Districte\", \"Seccio_Censal\"]].nunique()"
   ]
  },
  {
   "cell_type": "markdown",
   "metadata": {},
   "source": [
    "### Distribution of population"
   ]
  },
  {
   "cell_type": "markdown",
   "metadata": {},
   "source": [
    "#### Census tract"
   ]
  },
  {
   "cell_type": "code",
   "execution_count": 66,
   "metadata": {},
   "outputs": [
    {
     "data": {
      "image/png": "[encoded data removed]",
      "text/plain": [
       "<Figure size 640x480 with 1 Axes>"
      ]
     },
     "metadata": {},
     "output_type": "display_data"
    }
   ],
   "source": [
    "# Extract the numeric values\n",
    "vals = population_df[\"Valor\"].dropna().values\n",
    "\n",
    "# 1) Calculate the kernel density estimate\n",
    "kde = gaussian_kde(vals)\n",
    "\n",
    "# 2) Generate a range of x values from min to max of the data\n",
    "x_range = np.linspace(vals.min(), vals.max(), 200)\n",
    "\n",
    "# 3) Evaluate the KDE over that range\n",
    "kde_values = kde(x_range)\n",
    "\n",
    "# 4) Plot the histogram and the KDE curve\n",
    "plt.figure()\n",
    "plt.hist(vals, bins=30, density=True, alpha=0.5, edgecolor='black')  \n",
    "plt.plot(x_range, kde_values, linewidth=1, color=\"red\")  \n",
    "plt.xlabel(\"Population\")\n",
    "plt.ylabel(\"Density\")\n",
    "plt.title(\"Population Distribution\")\n",
    "plt.show()"
   ]
  },
  {
   "cell_type": "markdown",
   "metadata": {},
   "source": [
    "#### District"
   ]
  },
  {
   "cell_type": "code",
   "execution_count": 37,
   "metadata": {},
   "outputs": [
    {
     "name": "stdout",
     "output_type": "stream",
     "text": [
      "Nom_Districte\n",
      "Ciutat Vella           1958.574074\n",
      "Sant Martí             1633.677249\n",
      "Sant Andreu            1583.964912\n",
      "Sants-Montjuïc         1583.118708\n",
      "Eixample               1553.171484\n",
      "Sarrià-Sant Gervasi    1528.845805\n",
      "Nou Barris             1465.810066\n",
      "Les Corts              1441.855750\n",
      "Gràcia                 1411.835249\n",
      "Horta-Guinardó         1404.723577\n",
      "Name: Valor, dtype: float64\n"
     ]
    }
   ],
   "source": [
    "mean_valor_by_district = population_df.groupby('Nom_Districte')['Valor'].mean().sort_values(ascending=False)\n",
    "print(mean_valor_by_district)"
   ]
  },
  {
   "cell_type": "code",
   "execution_count": 65,
   "metadata": {},
   "outputs": [
    {
     "data": {
      "image/png": "[encoded data removed]",
      "text/plain": [
       "<Figure size 640x480 with 1 Axes>"
      ]
     },
     "metadata": {},
     "output_type": "display_data"
    }
   ],
   "source": [
    "# Bar plot of average Valor per district\n",
    "plt.figure()\n",
    "mean_valor_by_district.plot(kind='bar')\n",
    "plt.xlabel(\"Nom_Districte\")\n",
    "plt.ylabel(\"Mean Population\")\n",
    "plt.title(\"Mean Population by District\")\n",
    "plt.show()"
   ]
  },
  {
   "cell_type": "code",
   "execution_count": 64,
   "metadata": {},
   "outputs": [
    {
     "data": {
      "text/plain": [
       "<Figure size 640x480 with 0 Axes>"
      ]
     },
     "metadata": {},
     "output_type": "display_data"
    },
    {
     "data": {
      "image/png": "[encoded data removed]",
      "text/plain": [
       "<Figure size 640x480 with 1 Axes>"
      ]
     },
     "metadata": {},
     "output_type": "display_data"
    }
   ],
   "source": [
    "plt.figure()\n",
    "population_df.boxplot(column='Valor', by='Nom_Districte', rot=90)\n",
    "plt.title(\"Population Distribution by District\")\n",
    "plt.suptitle(\"\")  # Remove the default Pandas title\n",
    "plt.xlabel(\"Nom_Districte\")\n",
    "plt.ylabel(\"Population\")\n",
    "plt.show()"
   ]
  }
 ],
 "metadata": {
  "kernelspec": {
   "display_name": "Python 3",
   "language": "python",
   "name": "python3"
  },
  "language_info": {
   "codemirror_mode": {
    "name": "ipython",
    "version": 3
   },
   "file_extension": ".py",
   "mimetype": "text/x-python",
   "name": "python",
   "nbconvert_exporter": "python",
   "pygments_lexer": "ipython3",
   "version": "3.12.4"
  }
 },
 "nbformat": 4,
 "nbformat_minor": 2
}

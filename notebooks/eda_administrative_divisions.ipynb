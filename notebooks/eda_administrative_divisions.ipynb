{
 "cells": [
  {
   "cell_type": "code",
   "execution_count": 12,
   "metadata": {},
   "outputs": [],
   "source": [
    "import geopandas as gpd\n",
    "import pandas as pd\n",
    "from glob import glob"
   ]
  },
  {
   "cell_type": "markdown",
   "metadata": {},
   "source": [
    "# Dataset description"
   ]
  },
  {
   "cell_type": "markdown",
   "metadata": {},
   "source": [
    "Detail of administrative units of the city of Barcelona : districts, neighbourhoods, and census tracts."
   ]
  },
  {
   "cell_type": "markdown",
   "metadata": {},
   "source": [
    "# Columns description"
   ]
  },
  {
   "cell_type": "markdown",
   "metadata": {},
   "source": [
    "1) CONJ_DESCR: type of administrative unit (district, neighbourhood, or census tract).\n",
    "2) DISTRICTE: district code.\n",
    "3) BARRI: neighbourhood code.\n",
    "4) SEC_CENS: census tract code.\n",
    "5) NOM: name of the district or the neighbourhood (census tracts do not have name).\n",
    "6) PERIMETRE: perimeter of the administrative unit polygon (meters).\n",
    "7) AREA: area of the administrative unit polygon (square meters).\n",
    "8) RANGESCALA: scale of the polygons.\n",
    "9) geometry: administrative unit polygon."
   ]
  },
  {
   "cell_type": "markdown",
   "metadata": {},
   "source": [
    "# Loading the data"
   ]
  },
  {
   "cell_type": "code",
   "execution_count": 7,
   "metadata": {},
   "outputs": [],
   "source": [
    "# Set options to display all rows and columns\n",
    "pd.set_option('display.max_rows', None)\n",
    "pd.set_option('display.max_columns', None)"
   ]
  },
  {
   "cell_type": "code",
   "execution_count": null,
   "metadata": {},
   "outputs": [
    {
     "data": {
      "text/html": [
       "<div>\n",
       "<style scoped>\n",
       "    .dataframe tbody tr th:only-of-type {\n",
       "        vertical-align: middle;\n",
       "    }\n",
       "\n",
       "    .dataframe tbody tr th {\n",
       "        vertical-align: top;\n",
       "    }\n",
       "\n",
       "    .dataframe thead th {\n",
       "        text-align: right;\n",
       "    }\n",
       "</style>\n",
       "<table border=\"1\" class=\"dataframe\">\n",
       "  <thead>\n",
       "    <tr style=\"text-align: right;\">\n",
       "      <th></th>\n",
       "      <th>ID_ANNEX</th>\n",
       "      <th>ANNEXDESCR</th>\n",
       "      <th>ID_TEMA</th>\n",
       "      <th>TEMA_DESCR</th>\n",
       "      <th>ID_CONJUNT</th>\n",
       "      <th>CONJ_DESCR</th>\n",
       "      <th>ID_SUBCONJ</th>\n",
       "      <th>SCONJ_DESC</th>\n",
       "      <th>ID_ELEMENT</th>\n",
       "      <th>ELEM_DESCR</th>\n",
       "      <th>NIVELL</th>\n",
       "      <th>NDESCR_CA</th>\n",
       "      <th>NDESCR_ES</th>\n",
       "      <th>NDESCR_EN</th>\n",
       "      <th>TERME</th>\n",
       "      <th>DISTRICTE</th>\n",
       "      <th>BARRI</th>\n",
       "      <th>AEB</th>\n",
       "      <th>SEC_CENS</th>\n",
       "      <th>GRANBARRI</th>\n",
       "      <th>ZUA</th>\n",
       "      <th>AREA_I</th>\n",
       "      <th>LITERAL</th>\n",
       "      <th>PERIMETRE</th>\n",
       "      <th>AREA</th>\n",
       "      <th>ORD_REPRES</th>\n",
       "      <th>CODI_UA</th>\n",
       "      <th>TIPUS_UA</th>\n",
       "      <th>NOM</th>\n",
       "      <th>WEB1</th>\n",
       "      <th>WEB2</th>\n",
       "      <th>WEB3</th>\n",
       "      <th>DOCUMENTA</th>\n",
       "      <th>RANGESCALA</th>\n",
       "      <th>TIPUS_POL</th>\n",
       "      <th>GRUIX_ID</th>\n",
       "      <th>GRUIXDIMEN</th>\n",
       "      <th>ESTIL_ID</th>\n",
       "      <th>ESTIL_QGIS</th>\n",
       "      <th>VALOR1QGIS</th>\n",
       "      <th>VALOR2QGIS</th>\n",
       "      <th>COL_FARCIT</th>\n",
       "      <th>FCOL_DESCR</th>\n",
       "      <th>FHEX_COLOR</th>\n",
       "      <th>COL_DESCR</th>\n",
       "      <th>HEX_COLOR7</th>\n",
       "      <th>geometry</th>\n",
       "    </tr>\n",
       "  </thead>\n",
       "  <tbody>\n",
       "    <tr>\n",
       "      <th>0</th>\n",
       "      <td>01</td>\n",
       "      <td>Grup - I</td>\n",
       "      <td>0104</td>\n",
       "      <td>Unitats Administratives</td>\n",
       "      <td>010412</td>\n",
       "      <td>Districtes</td>\n",
       "      <td>01041201</td>\n",
       "      <td>Districte</td>\n",
       "      <td>0104120101</td>\n",
       "      <td>Límit de districte</td>\n",
       "      <td>ADM_02_PL</td>\n",
       "      <td>Límit de districte (polígon)</td>\n",
       "      <td>Límite de distrito (polígono)</td>\n",
       "      <td>District boundary (polygon)</td>\n",
       "      <td>080193</td>\n",
       "      <td>01</td>\n",
       "      <td>-</td>\n",
       "      <td>-</td>\n",
       "      <td>-</td>\n",
       "      <td>-</td>\n",
       "      <td>-</td>\n",
       "      <td>-</td>\n",
       "      <td>01</td>\n",
       "      <td>21366.962</td>\n",
       "      <td>4204930.807</td>\n",
       "      <td>5</td>\n",
       "      <td>01</td>\n",
       "      <td>DISTRICTE</td>\n",
       "      <td>Ciutat Vella</td>\n",
       "      <td>http://www.bcn.cat/ciutatvella</td>\n",
       "      <td>http://www.bcn.cat/estadistica/catala/dades/gu...</td>\n",
       "      <td>http://www.bcn.cat/estadistica/catala/document...</td>\n",
       "      <td>None</td>\n",
       "      <td>1-150000</td>\n",
       "      <td>None</td>\n",
       "      <td>6</td>\n",
       "      <td>70.0</td>\n",
       "      <td>0</td>\n",
       "      <td>Sòlid</td>\n",
       "      <td>0</td>\n",
       "      <td>0</td>\n",
       "      <td>1</td>\n",
       "      <td>Negre</td>\n",
       "      <td>#000000</td>\n",
       "      <td>Negre</td>\n",
       "      <td>#000000</td>\n",
       "      <td>POLYGON ((431733.736 4582441.816, 431827.673 4...</td>\n",
       "    </tr>\n",
       "    <tr>\n",
       "      <th>1</th>\n",
       "      <td>01</td>\n",
       "      <td>Grup - I</td>\n",
       "      <td>0104</td>\n",
       "      <td>Unitats Administratives</td>\n",
       "      <td>010412</td>\n",
       "      <td>Districtes</td>\n",
       "      <td>01041201</td>\n",
       "      <td>Districte</td>\n",
       "      <td>0104120101</td>\n",
       "      <td>Límit de districte</td>\n",
       "      <td>ADM_02_PL</td>\n",
       "      <td>Límit de districte (polígon)</td>\n",
       "      <td>Límite de distrito (polígono)</td>\n",
       "      <td>District boundary (polygon)</td>\n",
       "      <td>080193</td>\n",
       "      <td>02</td>\n",
       "      <td>-</td>\n",
       "      <td>-</td>\n",
       "      <td>-</td>\n",
       "      <td>-</td>\n",
       "      <td>-</td>\n",
       "      <td>-</td>\n",
       "      <td>02</td>\n",
       "      <td>13931.644</td>\n",
       "      <td>7464303.216</td>\n",
       "      <td>5</td>\n",
       "      <td>02</td>\n",
       "      <td>DISTRICTE</td>\n",
       "      <td>Eixample</td>\n",
       "      <td>http://www.bcn.cat/eixample</td>\n",
       "      <td>http://www.bcn.cat/estadistica/catala/dades/gu...</td>\n",
       "      <td>http://www.bcn.cat/estadistica/catala/document...</td>\n",
       "      <td>None</td>\n",
       "      <td>1-150000</td>\n",
       "      <td>None</td>\n",
       "      <td>6</td>\n",
       "      <td>70.0</td>\n",
       "      <td>0</td>\n",
       "      <td>Sòlid</td>\n",
       "      <td>0</td>\n",
       "      <td>0</td>\n",
       "      <td>1</td>\n",
       "      <td>Negre</td>\n",
       "      <td>#000000</td>\n",
       "      <td>Negre</td>\n",
       "      <td>#000000</td>\n",
       "      <td>POLYGON ((432033.184 4583665.032, 432032.069 4...</td>\n",
       "    </tr>\n",
       "  </tbody>\n",
       "</table>\n",
       "</div>"
      ],
      "text/plain": [
       "  ID_ANNEX ANNEXDESCR ID_TEMA               TEMA_DESCR ID_CONJUNT  CONJ_DESCR  \\\n",
       "0       01   Grup - I    0104  Unitats Administratives     010412  Districtes   \n",
       "1       01   Grup - I    0104  Unitats Administratives     010412  Districtes   \n",
       "\n",
       "  ID_SUBCONJ SCONJ_DESC  ID_ELEMENT          ELEM_DESCR     NIVELL  \\\n",
       "0   01041201  Districte  0104120101  Límit de districte  ADM_02_PL   \n",
       "1   01041201  Districte  0104120101  Límit de districte  ADM_02_PL   \n",
       "\n",
       "                      NDESCR_CA                      NDESCR_ES  \\\n",
       "0  Límit de districte (polígon)  Límite de distrito (polígono)   \n",
       "1  Límit de districte (polígon)  Límite de distrito (polígono)   \n",
       "\n",
       "                     NDESCR_EN   TERME DISTRICTE BARRI AEB SEC_CENS GRANBARRI  \\\n",
       "0  District boundary (polygon)  080193        01     -   -        -         -   \n",
       "1  District boundary (polygon)  080193        02     -   -        -         -   \n",
       "\n",
       "  ZUA AREA_I LITERAL  PERIMETRE         AREA  ORD_REPRES CODI_UA   TIPUS_UA  \\\n",
       "0   -      -      01  21366.962  4204930.807           5      01  DISTRICTE   \n",
       "1   -      -      02  13931.644  7464303.216           5      02  DISTRICTE   \n",
       "\n",
       "            NOM                            WEB1  \\\n",
       "0  Ciutat Vella  http://www.bcn.cat/ciutatvella   \n",
       "1      Eixample     http://www.bcn.cat/eixample   \n",
       "\n",
       "                                                WEB2  \\\n",
       "0  http://www.bcn.cat/estadistica/catala/dades/gu...   \n",
       "1  http://www.bcn.cat/estadistica/catala/dades/gu...   \n",
       "\n",
       "                                                WEB3 DOCUMENTA RANGESCALA  \\\n",
       "0  http://www.bcn.cat/estadistica/catala/document...      None   1-150000   \n",
       "1  http://www.bcn.cat/estadistica/catala/document...      None   1-150000   \n",
       "\n",
       "  TIPUS_POL GRUIX_ID  GRUIXDIMEN ESTIL_ID ESTIL_QGIS VALOR1QGIS VALOR2QGIS  \\\n",
       "0      None        6        70.0        0      Sòlid          0          0   \n",
       "1      None        6        70.0        0      Sòlid          0          0   \n",
       "\n",
       "  COL_FARCIT FCOL_DESCR FHEX_COLOR COL_DESCR HEX_COLOR7  \\\n",
       "0          1      Negre    #000000     Negre    #000000   \n",
       "1          1      Negre    #000000     Negre    #000000   \n",
       "\n",
       "                                            geometry  \n",
       "0  POLYGON ((431733.736 4582441.816, 431827.673 4...  \n",
       "1  POLYGON ((432033.184 4583665.032, 432032.069 4...  "
      ]
     },
     "execution_count": 11,
     "metadata": {},
     "output_type": "execute_result"
    }
   ],
   "source": [
    "# Read Shapefile into a GeoDataFrame\n",
    "file_path = r\"..\\data\\administrative_units\\0301040100_Districtes_UNITATS_ADM.shp\"\n",
    "gdf = gpd.read_file(file_path, encoding=\"latin-1\")\n",
    "\n",
    "# Display the first few rows\n",
    "gdf.head(2)"
   ]
  },
  {
   "cell_type": "code",
   "execution_count": 46,
   "metadata": {},
   "outputs": [
    {
     "name": "stdout",
     "output_type": "stream",
     "text": [
      "1151\n"
     ]
    },
    {
     "data": {
      "text/html": [
       "<div>\n",
       "<style scoped>\n",
       "    .dataframe tbody tr th:only-of-type {\n",
       "        vertical-align: middle;\n",
       "    }\n",
       "\n",
       "    .dataframe tbody tr th {\n",
       "        vertical-align: top;\n",
       "    }\n",
       "\n",
       "    .dataframe thead th {\n",
       "        text-align: right;\n",
       "    }\n",
       "</style>\n",
       "<table border=\"1\" class=\"dataframe\">\n",
       "  <thead>\n",
       "    <tr style=\"text-align: right;\">\n",
       "      <th></th>\n",
       "      <th>CONJ_DESCR</th>\n",
       "      <th>DISTRICTE</th>\n",
       "      <th>BARRI</th>\n",
       "      <th>SEC_CENS</th>\n",
       "      <th>NOM</th>\n",
       "      <th>PERIMETRE</th>\n",
       "      <th>AREA</th>\n",
       "      <th>RANGESCALA</th>\n",
       "      <th>geometry</th>\n",
       "    </tr>\n",
       "  </thead>\n",
       "  <tbody>\n",
       "    <tr>\n",
       "      <th>0</th>\n",
       "      <td>Barris</td>\n",
       "      <td>01</td>\n",
       "      <td>01</td>\n",
       "      <td>-</td>\n",
       "      <td>el Raval</td>\n",
       "      <td>5521.647</td>\n",
       "      <td>1100286.137</td>\n",
       "      <td>1-50000</td>\n",
       "      <td>POLYGON ((430162.188 4581936.984, 430550.104 4...</td>\n",
       "    </tr>\n",
       "    <tr>\n",
       "      <th>1</th>\n",
       "      <td>Barris</td>\n",
       "      <td>01</td>\n",
       "      <td>02</td>\n",
       "      <td>-</td>\n",
       "      <td>el Barri Gòtic</td>\n",
       "      <td>5198.000</td>\n",
       "      <td>815593.938</td>\n",
       "      <td>1-50000</td>\n",
       "      <td>POLYGON ((431189.907 4581851.448, 431332.429 4...</td>\n",
       "    </tr>\n",
       "    <tr>\n",
       "      <th>2</th>\n",
       "      <td>Barris</td>\n",
       "      <td>01</td>\n",
       "      <td>03</td>\n",
       "      <td>-</td>\n",
       "      <td>la Barceloneta</td>\n",
       "      <td>13853.129</td>\n",
       "      <td>1179381.956</td>\n",
       "      <td>1-50000</td>\n",
       "      <td>POLYGON ((432798.734 4582081.26, 432805.852 45...</td>\n",
       "    </tr>\n",
       "    <tr>\n",
       "      <th>3</th>\n",
       "      <td>Barris</td>\n",
       "      <td>01</td>\n",
       "      <td>04</td>\n",
       "      <td>-</td>\n",
       "      <td>Sant Pere, Santa Caterina i la Ribera</td>\n",
       "      <td>4664.483</td>\n",
       "      <td>1109668.777</td>\n",
       "      <td>1-50000</td>\n",
       "      <td>POLYGON ((431733.736 4582441.816, 431827.673 4...</td>\n",
       "    </tr>\n",
       "    <tr>\n",
       "      <th>4</th>\n",
       "      <td>Barris</td>\n",
       "      <td>02</td>\n",
       "      <td>05</td>\n",
       "      <td>-</td>\n",
       "      <td>el Fort Pienc</td>\n",
       "      <td>4137.329</td>\n",
       "      <td>929355.787</td>\n",
       "      <td>1-50000</td>\n",
       "      <td>POLYGON ((431741.815 4582625.649, 431645.093 4...</td>\n",
       "    </tr>\n",
       "  </tbody>\n",
       "</table>\n",
       "</div>"
      ],
      "text/plain": [
       "  CONJ_DESCR DISTRICTE BARRI SEC_CENS                                    NOM  \\\n",
       "0     Barris        01    01        -                               el Raval   \n",
       "1     Barris        01    02        -                         el Barri Gòtic   \n",
       "2     Barris        01    03        -                         la Barceloneta   \n",
       "3     Barris        01    04        -  Sant Pere, Santa Caterina i la Ribera   \n",
       "4     Barris        02    05        -                          el Fort Pienc   \n",
       "\n",
       "   PERIMETRE         AREA RANGESCALA  \\\n",
       "0   5521.647  1100286.137    1-50000   \n",
       "1   5198.000   815593.938    1-50000   \n",
       "2  13853.129  1179381.956    1-50000   \n",
       "3   4664.483  1109668.777    1-50000   \n",
       "4   4137.329   929355.787    1-50000   \n",
       "\n",
       "                                            geometry  \n",
       "0  POLYGON ((430162.188 4581936.984, 430550.104 4...  \n",
       "1  POLYGON ((431189.907 4581851.448, 431332.429 4...  \n",
       "2  POLYGON ((432798.734 4582081.26, 432805.852 45...  \n",
       "3  POLYGON ((431733.736 4582441.816, 431827.673 4...  \n",
       "4  POLYGON ((431741.815 4582625.649, 431645.093 4...  "
      ]
     },
     "execution_count": 46,
     "metadata": {},
     "output_type": "execute_result"
    }
   ],
   "source": [
    "# Folder containing the shapefiles\n",
    "folder_path = \"../data/administrative_units\"\n",
    "\n",
    "# List all shapefiles in the folder\n",
    "shp_files = glob(f\"{folder_path}/*.shp\")\n",
    "\n",
    "# Columns to keep\n",
    "cols_to_keep = [\n",
    "    \"CONJ_DESCR\",\n",
    "    \"DISTRICTE\",\n",
    "    \"BARRI\",\n",
    "    \"SEC_CENS\",\n",
    "    \"NOM\",\n",
    "    \"PERIMETRE\",\n",
    "    \"AREA\",\n",
    "    \"RANGESCALA\",\n",
    "    \"geometry\"\n",
    "]\n",
    "\n",
    "# Read each shapefile, subset the columns, and store in a list\n",
    "gdf_list = []\n",
    "for shp in shp_files:\n",
    "    gdf = gpd.read_file(shp, encoding=\"latin-1\")\n",
    "    # Only keep the desired columns (if they exist in the file)\n",
    "    gdf = gdf[[col for col in cols_to_keep if col in gdf.columns]]\n",
    "    gdf_list.append(gdf)\n",
    "\n",
    "# Concatenate all GeoDataFrames into one\n",
    "full_gdf = gpd.GeoDataFrame(pd.concat(gdf_list, ignore_index=True))\n",
    "\n",
    "print(len(full_gdf))\n",
    "\n",
    "# Display the first few rows of the concatenated GeoDataFrame\n",
    "full_gdf.head()"
   ]
  },
  {
   "cell_type": "markdown",
   "metadata": {},
   "source": [
    "# Data Types"
   ]
  },
  {
   "cell_type": "code",
   "execution_count": 17,
   "metadata": {},
   "outputs": [
    {
     "data": {
      "text/plain": [
       "CONJ_DESCR      object\n",
       "DISTRICTE       object\n",
       "BARRI           object\n",
       "SEC_CENS        object\n",
       "PERIMETRE      float64\n",
       "AREA           float64\n",
       "RANGESCALA      object\n",
       "geometry      geometry\n",
       "dtype: object"
      ]
     },
     "execution_count": 17,
     "metadata": {},
     "output_type": "execute_result"
    }
   ],
   "source": [
    "full_gdf.dtypes"
   ]
  },
  {
   "cell_type": "markdown",
   "metadata": {},
   "source": [
    "# EDA"
   ]
  },
  {
   "cell_type": "code",
   "execution_count": 18,
   "metadata": {},
   "outputs": [
    {
     "name": "stdout",
     "output_type": "stream",
     "text": [
      "<class 'geopandas.geodataframe.GeoDataFrame'>\n",
      "RangeIndex: 1151 entries, 0 to 1150\n",
      "Data columns (total 8 columns):\n",
      " #   Column      Non-Null Count  Dtype   \n",
      "---  ------      --------------  -----   \n",
      " 0   CONJ_DESCR  1151 non-null   object  \n",
      " 1   DISTRICTE   1151 non-null   object  \n",
      " 2   BARRI       1151 non-null   object  \n",
      " 3   SEC_CENS    1151 non-null   object  \n",
      " 4   PERIMETRE   1151 non-null   float64 \n",
      " 5   AREA        1151 non-null   float64 \n",
      " 6   RANGESCALA  1151 non-null   object  \n",
      " 7   geometry    1151 non-null   geometry\n",
      "dtypes: float64(2), geometry(1), object(5)\n",
      "memory usage: 72.1+ KB\n"
     ]
    }
   ],
   "source": [
    "full_gdf.info()"
   ]
  },
  {
   "cell_type": "markdown",
   "metadata": {},
   "source": [
    "## Summary statistics for numerical variables"
   ]
  },
  {
   "cell_type": "code",
   "execution_count": 19,
   "metadata": {},
   "outputs": [
    {
     "data": {
      "text/html": [
       "<div>\n",
       "<style scoped>\n",
       "    .dataframe tbody tr th:only-of-type {\n",
       "        vertical-align: middle;\n",
       "    }\n",
       "\n",
       "    .dataframe tbody tr th {\n",
       "        vertical-align: top;\n",
       "    }\n",
       "\n",
       "    .dataframe thead th {\n",
       "        text-align: right;\n",
       "    }\n",
       "</style>\n",
       "<table border=\"1\" class=\"dataframe\">\n",
       "  <thead>\n",
       "    <tr style=\"text-align: right;\">\n",
       "      <th></th>\n",
       "      <th>PERIMETRE</th>\n",
       "      <th>AREA</th>\n",
       "    </tr>\n",
       "  </thead>\n",
       "  <tbody>\n",
       "    <tr>\n",
       "      <th>count</th>\n",
       "      <td>1151.000000</td>\n",
       "      <td>1.151000e+03</td>\n",
       "    </tr>\n",
       "    <tr>\n",
       "      <th>mean</th>\n",
       "      <td>1666.549462</td>\n",
       "      <td>2.650795e+05</td>\n",
       "    </tr>\n",
       "    <tr>\n",
       "      <th>std</th>\n",
       "      <td>3308.390847</td>\n",
       "      <td>1.349198e+06</td>\n",
       "    </tr>\n",
       "    <tr>\n",
       "      <th>min</th>\n",
       "      <td>426.279000</td>\n",
       "      <td>1.045869e+04</td>\n",
       "    </tr>\n",
       "    <tr>\n",
       "      <th>25%</th>\n",
       "      <td>744.327500</td>\n",
       "      <td>2.695025e+04</td>\n",
       "    </tr>\n",
       "    <tr>\n",
       "      <th>50%</th>\n",
       "      <td>898.000000</td>\n",
       "      <td>3.774816e+04</td>\n",
       "    </tr>\n",
       "    <tr>\n",
       "      <th>75%</th>\n",
       "      <td>1253.594500</td>\n",
       "      <td>6.685453e+04</td>\n",
       "    </tr>\n",
       "    <tr>\n",
       "      <th>max</th>\n",
       "      <td>46711.857000</td>\n",
       "      <td>2.287985e+07</td>\n",
       "    </tr>\n",
       "  </tbody>\n",
       "</table>\n",
       "</div>"
      ],
      "text/plain": [
       "          PERIMETRE          AREA\n",
       "count   1151.000000  1.151000e+03\n",
       "mean    1666.549462  2.650795e+05\n",
       "std     3308.390847  1.349198e+06\n",
       "min      426.279000  1.045869e+04\n",
       "25%      744.327500  2.695025e+04\n",
       "50%      898.000000  3.774816e+04\n",
       "75%     1253.594500  6.685453e+04\n",
       "max    46711.857000  2.287985e+07"
      ]
     },
     "execution_count": 19,
     "metadata": {},
     "output_type": "execute_result"
    }
   ],
   "source": [
    "# Quick summary of numeric columns\n",
    "full_gdf.describe()"
   ]
  },
  {
   "cell_type": "markdown",
   "metadata": {},
   "source": [
    "## Missing values"
   ]
  },
  {
   "cell_type": "code",
   "execution_count": 20,
   "metadata": {},
   "outputs": [
    {
     "data": {
      "text/plain": [
       "CONJ_DESCR    0\n",
       "DISTRICTE     0\n",
       "BARRI         0\n",
       "SEC_CENS      0\n",
       "PERIMETRE     0\n",
       "AREA          0\n",
       "RANGESCALA    0\n",
       "geometry      0\n",
       "dtype: int64"
      ]
     },
     "execution_count": 20,
     "metadata": {},
     "output_type": "execute_result"
    }
   ],
   "source": [
    "full_gdf.isna().sum()"
   ]
  },
  {
   "cell_type": "code",
   "execution_count": 25,
   "metadata": {},
   "outputs": [
    {
     "data": {
      "text/plain": [
       "CONJ_DESCR\n",
       "Secció censal    1068\n",
       "Barris             73\n",
       "Districtes         10\n",
       "Name: count, dtype: int64"
      ]
     },
     "execution_count": 25,
     "metadata": {},
     "output_type": "execute_result"
    }
   ],
   "source": [
    "# Count the number of unique values in the columns \"Nom_Barri\", \"Nom_Districte\" and \"Seccio_Censal\"\n",
    "full_gdf[\"CONJ_DESCR\"].value_counts()"
   ]
  },
  {
   "cell_type": "code",
   "execution_count": 27,
   "metadata": {},
   "outputs": [
    {
     "name": "stdout",
     "output_type": "stream",
     "text": [
      "Collecting folium\n",
      "  Using cached folium-0.19.5-py2.py3-none-any.whl.metadata (4.1 kB)\n",
      "Collecting branca>=0.6.0 (from folium)\n",
      "  Using cached branca-0.8.1-py3-none-any.whl.metadata (1.5 kB)\n",
      "Requirement already satisfied: jinja2>=2.9 in c:\\users\\andre\\appdata\\local\\programs\\python\\python312\\lib\\site-packages (from folium) (3.1.4)\n",
      "Requirement already satisfied: numpy in c:\\users\\andre\\appdata\\local\\programs\\python\\python312\\lib\\site-packages (from folium) (2.0.1)\n",
      "Requirement already satisfied: requests in c:\\users\\andre\\appdata\\local\\programs\\python\\python312\\lib\\site-packages (from folium) (2.32.3)\n",
      "Requirement already satisfied: xyzservices in c:\\users\\andre\\appdata\\local\\programs\\python\\python312\\lib\\site-packages (from folium) (2024.6.0)\n",
      "Requirement already satisfied: MarkupSafe>=2.0 in c:\\users\\andre\\appdata\\local\\programs\\python\\python312\\lib\\site-packages (from jinja2>=2.9->folium) (2.1.5)\n",
      "Requirement already satisfied: charset-normalizer<4,>=2 in c:\\users\\andre\\appdata\\local\\programs\\python\\python312\\lib\\site-packages (from requests->folium) (3.3.2)\n",
      "Requirement already satisfied: idna<4,>=2.5 in c:\\users\\andre\\appdata\\local\\programs\\python\\python312\\lib\\site-packages (from requests->folium) (3.7)\n",
      "Requirement already satisfied: urllib3<3,>=1.21.1 in c:\\users\\andre\\appdata\\local\\programs\\python\\python312\\lib\\site-packages (from requests->folium) (2.2.2)\n",
      "Requirement already satisfied: certifi>=2017.4.17 in c:\\users\\andre\\appdata\\local\\programs\\python\\python312\\lib\\site-packages (from requests->folium) (2024.7.4)\n",
      "Using cached folium-0.19.5-py2.py3-none-any.whl (110 kB)\n",
      "Using cached branca-0.8.1-py3-none-any.whl (26 kB)\n",
      "Installing collected packages: branca, folium\n",
      "Successfully installed branca-0.8.1 folium-0.19.5\n"
     ]
    },
    {
     "name": "stderr",
     "output_type": "stream",
     "text": [
      "\n",
      "[notice] A new release of pip is available: 24.3.1 -> 25.0.1\n",
      "[notice] To update, run: python.exe -m pip install --upgrade pip\n"
     ]
    }
   ],
   "source": [
    "import sys\n",
    "!{sys.executable} -m pip install -U folium"
   ]
  },
  {
   "cell_type": "code",
   "execution_count": 29,
   "metadata": {},
   "outputs": [
    {
     "name": "stdout",
     "output_type": "stream",
     "text": [
      "Requirement already satisfied: pip in c:\\users\\andre\\appdata\\local\\programs\\python\\python312\\lib\\site-packages (24.3.1)\n",
      "Collecting pip\n",
      "  Using cached pip-25.0.1-py3-none-any.whl.metadata (3.7 kB)\n",
      "Using cached pip-25.0.1-py3-none-any.whl (1.8 MB)\n",
      "Installing collected packages: pip\n",
      "  Attempting uninstall: pip\n",
      "    Found existing installation: pip 24.3.1\n",
      "    Uninstalling pip-24.3.1:\n",
      "      Successfully uninstalled pip-24.3.1\n",
      "Successfully installed pip-25.0.1\n"
     ]
    }
   ],
   "source": [
    "!{sys.executable} -m pip install --upgrade pip"
   ]
  },
  {
   "cell_type": "code",
   "execution_count": 36,
   "metadata": {},
   "outputs": [
    {
     "data": {
      "text/plain": [
       "array(['Barris', 'Districtes', 'Secció censal'], dtype=object)"
      ]
     },
     "execution_count": 36,
     "metadata": {},
     "output_type": "execute_result"
    }
   ],
   "source": [
    "full_gdf['CONJ_DESCR'].unique()"
   ]
  },
  {
   "cell_type": "code",
   "execution_count": null,
   "metadata": {},
   "outputs": [],
   "source": [
    "import folium\n",
    "\n",
    "# Ensure your GeoDataFrame is in EPSG:4326\n",
    "full_gdf = full_gdf.to_crs(epsg=4326)\n",
    "\n",
    "# Filter by administrative unit levels and make copies to avoid warnings\n",
    "districts = full_gdf[full_gdf[\"CONJ_DESCR\"] == \"Districtes\"].copy()\n",
    "neighbourhoods = full_gdf[full_gdf[\"CONJ_DESCR\"] == \"Barris\"].copy()\n",
    "censustracts = full_gdf[full_gdf[\"CONJ_DESCR\"] == \"Secció censal\"].copy()\n",
    "\n",
    "# Create formatted string columns for AREA and PERIMETRE with thousand separators\n",
    "districts[\"AREA_fmt\"] = districts[\"AREA\"].apply(lambda x: format(x, ','))\n",
    "districts[\"PERIMETRE_fmt\"] = districts[\"PERIMETRE\"].apply(lambda x: format(x, ','))\n",
    "\n",
    "neighbourhoods[\"AREA_fmt\"] = neighbourhoods[\"AREA\"].apply(lambda x: format(x, ','))\n",
    "neighbourhoods[\"PERIMETRE_fmt\"] = neighbourhoods[\"PERIMETRE\"].apply(lambda x: format(x, ','))\n",
    "\n",
    "censustracts[\"AREA_fmt\"] = censustracts[\"AREA\"].apply(lambda x: format(x, ','))\n",
    "censustracts[\"PERIMETRE_fmt\"] = censustracts[\"PERIMETRE\"].apply(lambda x: format(x, ','))\n",
    "\n",
    "# Compute the union of all geometries and get the centroid for centering the map.\n",
    "union_geom = full_gdf.geometry.union_all()\n",
    "centroid = union_geom.centroid\n",
    "map_center = [centroid.y, centroid.x]\n",
    "\n",
    "# Create a folium map\n",
    "m = folium.Map(location=map_center, zoom_start=12)\n",
    "\n",
    "# Define style functions with low-opacity fill, distinct border colors, and thicker borders.\n",
    "def style_districts(feature):\n",
    "    return {\n",
    "        'fillColor': '#7570b3',\n",
    "        'fillOpacity': 0.2,\n",
    "        'color': '#7570b3',\n",
    "        'weight': 6,\n",
    "    }\n",
    "\n",
    "def style_neighbourhoods(feature):\n",
    "    return {\n",
    "        'fillColor': '#e7298a',\n",
    "        'fillOpacity': 0.2,\n",
    "        'color': '#e7298a',\n",
    "        'weight': 3,\n",
    "    }\n",
    "\n",
    "def style_censustracts(feature):\n",
    "    return {\n",
    "        'fillColor': '#a6761d',\n",
    "        'fillOpacity': 0.2,\n",
    "        'color': '#a6761d',\n",
    "        'weight': 2,\n",
    "    }\n",
    "\n",
    "# Create feature groups for each administrative level.\n",
    "fg_districts = folium.FeatureGroup(name=\"Districts\")\n",
    "fg_neighbourhoods = folium.FeatureGroup(name=\"Neighbourhoods\")\n",
    "fg_censustracts = folium.FeatureGroup(name=\"Census Tracts\")\n",
    "\n",
    "# Add GeoJSON layers with tooltips.\n",
    "# For districts and neighbourhoods, include \"NOM\", \"AREA_fmt\", and \"PERIMETRE_fmt\".\n",
    "fg_districts.add_child(\n",
    "    folium.GeoJson(\n",
    "        districts.__geo_interface__,\n",
    "        name=\"Districts\",\n",
    "        style_function=style_districts,\n",
    "        tooltip=folium.GeoJsonTooltip(\n",
    "            fields=['NOM', 'AREA_fmt', 'PERIMETRE_fmt'],\n",
    "            aliases=['Name:', 'Area:', 'Perimeter:']\n",
    "        )\n",
    "    )\n",
    ")\n",
    "\n",
    "fg_neighbourhoods.add_child(\n",
    "    folium.GeoJson(\n",
    "        neighbourhoods.__geo_interface__,\n",
    "        name=\"Neighbourhoods\",\n",
    "        style_function=style_neighbourhoods,\n",
    "        tooltip=folium.GeoJsonTooltip(\n",
    "            fields=['NOM', 'AREA_fmt', 'PERIMETRE_fmt'],\n",
    "            aliases=['Name:', 'Area:', 'Perimeter:']\n",
    "        )\n",
    "    )\n",
    ")\n",
    "\n",
    "# For census tracts, include only \"AREA_fmt\" and \"PERIMETRE_fmt\".\n",
    "fg_censustracts.add_child(\n",
    "    folium.GeoJson(\n",
    "        censustracts.__geo_interface__,\n",
    "        name=\"Census Tracts\",\n",
    "        style_function=style_censustracts,\n",
    "        tooltip=folium.GeoJsonTooltip(\n",
    "            fields=['AREA_fmt', 'PERIMETRE_fmt'],\n",
    "            aliases=['Area:', 'Perimeter:']\n",
    "        )\n",
    "    )\n",
    ")\n",
    "\n",
    "# Add the feature groups to the map.\n",
    "m.add_child(fg_districts)\n",
    "m.add_child(fg_neighbourhoods)\n",
    "m.add_child(fg_censustracts)\n",
    "\n",
    "# Add a layer control to toggle between layers.\n",
    "m.add_child(folium.LayerControl())\n",
    "\n",
    "# Save the interactive map to an HTML file.\n",
    "m.save(\"../notebooks/outputs/administrative_units_map.html\")"
   ]
  }
 ],
 "metadata": {
  "kernelspec": {
   "display_name": "Python 3",
   "language": "python",
   "name": "python3"
  },
  "language_info": {
   "codemirror_mode": {
    "name": "ipython",
    "version": 3
   },
   "file_extension": ".py",
   "mimetype": "text/x-python",
   "name": "python",
   "nbconvert_exporter": "python",
   "pygments_lexer": "ipython3",
   "version": "3.12.4"
  }
 },
 "nbformat": 4,
 "nbformat_minor": 2
}
